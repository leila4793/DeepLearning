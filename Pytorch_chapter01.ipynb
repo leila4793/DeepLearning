{
 "cells": [
  {
   "cell_type": "markdown",
   "id": "a5ea1d00-de27-4a39-9cc1-21e0c785392b",
   "metadata": {},
   "source": [
    "__contents:__\n",
    "1. [Import Library](#Import_Library)\n",
    "2. [Tensors in PyTorch](#Tensors_PyTorch)\n",
    "   + 2.1. [Tensors](#tensors)\n",
    "     - 2.1.1. [linespace](#linespace)\n",
    "     - 2.1.2. [random](#random)\n",
    "     - 2.1.3. [Famous matrix](#Famous_matrix)\n",
    "       * 2.1.3.1. [zeros](#zeros)\n",
    "       * 2.1.3.2. [full](#full)\n",
    "       * 2.1.3.3. [ones](#ones)\n",
    "       * 2.1.3.4. [diag](#diag)\n",
    "     - 2.1.4. [Checking a Tensor](#Checking_Tensor)\n",
    "     - 2.1.5. [Manipulating Tensors](#Manipulating_Tensors)\n",
    "       * 2.1.5.1. [slice](#slice)\n",
    "       * 2.1.5.2. [Boolean indexing](#Boolean_indexing)\n",
    "       * 2.1.5.3. [reshape](#reshape)\n",
    "       * 2.1.5.4. [combine tensors](#combine)"
   ]
  },
  {
   "cell_type": "markdown",
   "id": "6b7ec4e7-0160-4118-a3e3-be87775cd0c9",
   "metadata": {},
   "source": [
    "# <h2 style=\"color: blue;\"> 1.Import Library <a id='Import_Library'></a></h2>"
   ]
  },
  {
   "cell_type": "markdown",
   "id": "eaa403d0-9536-4875-a013-8af8a77f36e1",
   "metadata": {},
   "source": [
    "<font color='#808080'>\n",
    "    \n",
    "To get started with PyTorch, you first need to install it. You can do this easily using pip by\n",
    "running the following command: \n",
    "\n",
    "1. ``` pip install torch ```\n",
    "If you’re using conda, the package name is different and the command would be:\n",
    "\n",
    "2. ```conda install pytorch ```\n",
    "\n",
    "Once you have installed PyTorch, you can start experimenting with it.\n",
    "</font>"
   ]
  },
  {
   "cell_type": "code",
   "execution_count": 1,
   "id": "e900ffbd-82b8-435d-8b82-14d6843db232",
   "metadata": {},
   "outputs": [],
   "source": [
    "import torch"
   ]
  },
  {
   "cell_type": "markdown",
   "id": "42701935-30d8-436f-8443-76c4bfe2184d",
   "metadata": {},
   "source": [
    "# <h2 style=\"color: blue;\"> 2. Tensors in PyTorch <a id='Tensors_PyTorch'></a></h2>"
   ]
  },
  {
   "cell_type": "markdown",
   "id": "1687346b-dbfa-4a0d-b09e-e58c556a535d",
   "metadata": {},
   "source": [
    "## <h2 style=\"color: blue;\">2.1. Tensors <a id='tensors'></a></h2>"
   ]
  },
  {
   "cell_type": "markdown",
   "id": "798d752a-2f6a-41e3-b28b-e44dfe7d033b",
   "metadata": {},
   "source": [
    "<font color='#808080'> \n",
    "    \n",
    "A Tensor is a __N-dimensional__ Matrix:\n",
    "\n",
    "- A Scalar is a ``` 0-dimensional``` tensor\n",
    "\n",
    "- A Vector is a ```1-dimensional``` tensor\n",
    "\n",
    "- A Matrix is a ```2-dimensional``` tensor\n",
    "\n",
    "A Tensor is a generalization of Vectors and Matrices to higher dimensions.\n",
    "\n",
    "+ The simplest way to create a specific constant matrix in pytorch is:\n",
    "\n",
    "</font>"
   ]
  },
  {
   "cell_type": "code",
   "execution_count": 2,
   "id": "cf56efcf-047f-496c-9161-67abfc0f36a1",
   "metadata": {},
   "outputs": [
    {
     "name": "stdout",
     "output_type": "stream",
     "text": [
      "tensor([[1, 2, 3],\n",
      "        [4, 5, 6]], dtype=torch.int32)\n"
     ]
    }
   ],
   "source": [
    "a = torch.tensor([\n",
    "    [1,2,3],\n",
    "    [4,5,6]\n",
    "            ], dtype = torch.int32)\n",
    "print(a)"
   ]
  },
  {
   "cell_type": "markdown",
   "id": "c529eb93-cc26-4e93-81ec-031fc6001aaa",
   "metadata": {},
   "source": [
    "### <h2 style=\"color: blue;\"> 2.1.1. linespace <a id='linespace'></a></h2>"
   ]
  },
  {
   "cell_type": "markdown",
   "id": "a9e0eca3-aa44-44f8-a870-4e7112db979c",
   "metadata": {},
   "source": [
    "<font color='#808080'>\n",
    "    \n",
    "Usually, you would create a tensor for some specific purpose. For example, if you want\n",
    "to have ```ten``` values evenly distributed ``` between -1 and 1```, you can use the ```linspace()``` function:\n",
    "\n",
    "</font>"
   ]
  },
  {
   "cell_type": "code",
   "execution_count": 3,
   "id": "86feb90b-fe87-475b-8555-f4de4990a915",
   "metadata": {},
   "outputs": [
    {
     "name": "stdout",
     "output_type": "stream",
     "text": [
      "tensor([-1.0000, -0.7778, -0.5556, -0.3333, -0.1111,  0.1111,  0.3333,  0.5556,\n",
      "         0.7778,  1.0000])\n"
     ]
    }
   ],
   "source": [
    "a = torch.linspace(-1, 1, 10)\n",
    "print(a)"
   ]
  },
  {
   "cell_type": "markdown",
   "id": "f9856a8b-31d6-4475-bf8a-1930c20504a6",
   "metadata": {},
   "source": [
    "### <h2 style=\"color: blue;\"> 2.1.2. random <a id='random'></a></h2>"
   ]
  },
  {
   "cell_type": "markdown",
   "id": "f9ea90b0-2944-45fc-8155-9ad97f24a6b9",
   "metadata": {},
   "source": [
    "<font color='#808080'>\n",
    "    \n",
    "1. __if you want to have a tensor of ```random values``` (which is very useful in testing your\n",
    "functions), you can make one like the following__:\n",
    "\n",
    "```torch.rand(a, b) ```: This function generates a 2D tensor with random values sampled uniformly from the interval ```[0, 1)```.\n",
    "\n",
    "- ```a``` is the number of rows in the tensor.\n",
    "- ```b``` is the number of columns in the tensor.\n",
    "\n",
    "2. __If you want to have the values normally distributed with ```mean 0``` and ```standard deviation 1```, just change the function to ```randn()``` as following__:\n",
    "```torch.randn(a, b)```: Creates a tensor of shape ```(a, b)``` where:\n",
    "- ```a``` is the number of rows.\n",
    "- ```b``` is the number of columns.\n",
    "\n",
    "3. __If you want to have the random values be an ```integer```, e.g., between 3 to 10, you can use the ```randint()``` function__:\n",
    "```torch.randint(low, high, size)```: Key Parameters:\n",
    "- ```low```: The lower bound (inclusive) for the random integers.\n",
    "- ```high```: The upper bound (exclusive) for the random integers.\n",
    "- ```size```: A tuple specifying the shape of the output tensor.\n",
    "</font>"
   ]
  },
  {
   "cell_type": "code",
   "execution_count": 4,
   "id": "3e4cd1cf-c3dc-4ad8-bae7-1813a95a50fb",
   "metadata": {},
   "outputs": [
    {
     "name": "stdout",
     "output_type": "stream",
     "text": [
      "randTorch output is: tensor([[0.9216, 0.0364, 0.2611, 0.2341],\n",
      "        [0.3814, 0.0095, 0.6537, 0.0553],\n",
      "        [0.3807, 0.7264, 0.5016, 0.8000]])\n",
      "randnTorch output is: tensor([[-1.4974,  0.2948,  1.4615,  2.2431],\n",
      "        [-0.4528,  0.6225, -0.3690, -1.0254],\n",
      "        [ 0.6031,  0.4740,  0.2527, -0.0555]])\n",
      "randintTorch output is: tensor([[9, 3, 5, 4],\n",
      "        [3, 6, 4, 8],\n",
      "        [6, 3, 4, 3]])\n"
     ]
    }
   ],
   "source": [
    "randTorch = torch.rand(3,4)\n",
    "randnTorch = torch.randn(3,4)\n",
    "randintTorch = torch.randint(3, 10, size = (3,4))\n",
    "print(f\"randTorch output is: {randTorch}\")\n",
    "print(f\"randnTorch output is: {randnTorch}\")\n",
    "print(f\"randintTorch output is: {randintTorch}\")"
   ]
  },
  {
   "cell_type": "markdown",
   "id": "0fcdaca4-0ddb-4080-83a6-304688934d2e",
   "metadata": {},
   "source": [
    "### <h2 style=\"color: blue;\"> 2.1.3.Famous matrix <a id='Famous_matrix'></a></h2>"
   ]
  },
  {
   "cell_type": "markdown",
   "id": "c7dfa717-9d3b-466d-a485-22258fe690c7",
   "metadata": {},
   "source": [
    "#### <h2 style=\"color: blue;\"> 2.1.3.1. zeros <a id='zeros'></a></h2>"
   ]
  },
  {
   "cell_type": "markdown",
   "id": "d139c613-a961-4b35-b4ca-ac5b610e7c81",
   "metadata": {},
   "source": [
    "<font color='#808080'>\n",
    "    \n",
    "The other commonly used tensors are the zero tensor and tensors with all values the same.\n",
    "To create a zero tensor __(e.g., of dimension 2 × 3 × 4)__, you can use:"
   ]
  },
  {
   "cell_type": "code",
   "execution_count": 5,
   "id": "5bf484f9-40f5-4caa-8b10-443a5a56e4d6",
   "metadata": {},
   "outputs": [
    {
     "name": "stdout",
     "output_type": "stream",
     "text": [
      "tensor([[[0., 0., 0., 0.],\n",
      "         [0., 0., 0., 0.],\n",
      "         [0., 0., 0., 0.]],\n",
      "\n",
      "        [[0., 0., 0., 0.],\n",
      "         [0., 0., 0., 0.],\n",
      "         [0., 0., 0., 0.]]])\n"
     ]
    }
   ],
   "source": [
    "a = torch.zeros(2, 3, 4)\n",
    "print(a)"
   ]
  },
  {
   "cell_type": "markdown",
   "id": "36980be8-0c01-41e1-9dad-331a9ace82b1",
   "metadata": {},
   "source": [
    "#### <h2 style=\"color: blue;\"> 2.1.3.2. full <a id='full'></a></h2>"
   ]
  },
  {
   "cell_type": "markdown",
   "id": "d7a19f51-1085-4674-b835-93b9e9557ca1",
   "metadata": {},
   "source": [
    "<font color='#808080'>\n",
    "to create a tensor of all values are 5, you can use:"
   ]
  },
  {
   "cell_type": "code",
   "execution_count": 6,
   "id": "372b3e2a-4fe8-42a2-98ff-dcd2dd003800",
   "metadata": {},
   "outputs": [
    {
     "name": "stdout",
     "output_type": "stream",
     "text": [
      "tensor([[[5, 5, 5, 5],\n",
      "         [5, 5, 5, 5],\n",
      "         [5, 5, 5, 5]],\n",
      "\n",
      "        [[5, 5, 5, 5],\n",
      "         [5, 5, 5, 5],\n",
      "         [5, 5, 5, 5]]])\n"
     ]
    }
   ],
   "source": [
    "a = torch.full((2,3,4), 5)\n",
    "print(a)"
   ]
  },
  {
   "cell_type": "markdown",
   "id": "27194f2a-8ec8-4f51-8cbc-9ab61edc9c0a",
   "metadata": {},
   "source": [
    "#### <h2 style=\"color: blue;\"> 2.1.3.3. ones <a id='ones'></a></h2>"
   ]
  },
  {
   "cell_type": "markdown",
   "id": "ef6250bf-e6f2-4403-8f19-0020b1751277",
   "metadata": {},
   "source": [
    "<font color='#808080'>\n",
    "if you want all values to be one, there is a simpler function"
   ]
  },
  {
   "cell_type": "code",
   "execution_count": 7,
   "id": "067c5785-fbf6-4efa-8e5e-99b46f49083b",
   "metadata": {},
   "outputs": [
    {
     "name": "stdout",
     "output_type": "stream",
     "text": [
      "tensor([[[1., 1., 1., 1.],\n",
      "         [1., 1., 1., 1.],\n",
      "         [1., 1., 1., 1.]],\n",
      "\n",
      "        [[1., 1., 1., 1.],\n",
      "         [1., 1., 1., 1.],\n",
      "         [1., 1., 1., 1.]]])\n"
     ]
    }
   ],
   "source": [
    "a = torch.ones(2,3,4)\n",
    "print(a)"
   ]
  },
  {
   "cell_type": "markdown",
   "id": "61203cbe-bbb5-4a08-ac3a-be9f43399dc0",
   "metadata": {},
   "source": [
    "#### <h2 style=\"color: blue;\"> 2.1.3.3. diag <a id='diag'></a></h2>"
   ]
  },
  {
   "cell_type": "markdown",
   "id": "c85875f1-0ae8-409a-9db4-1feb73d56157",
   "metadata": {},
   "source": [
    "<font color='#808080'>\n",
    "\n",
    "if you want an identity matrix, you can get it with ```diag()``` or ```eye()```:"
   ]
  },
  {
   "cell_type": "code",
   "execution_count": 8,
   "id": "8027ca92-c7e1-402f-8ff1-1a1db8a1ced7",
   "metadata": {},
   "outputs": [
    {
     "name": "stdout",
     "output_type": "stream",
     "text": [
      "tensor([[1., 0., 0., 0.],\n",
      "        [0., 1., 0., 0.],\n",
      "        [0., 0., 1., 0.],\n",
      "        [0., 0., 0., 1.]])\n"
     ]
    }
   ],
   "source": [
    "a = torch.eye(4)\n",
    "print(a)"
   ]
  },
  {
   "cell_type": "markdown",
   "id": "23b4878c-c543-4859-874b-b524a63942ee",
   "metadata": {},
   "source": [
    "### <h2 style=\"color: blue;\"> 2.1.4. Checking a Tensor <a id='Checking_Tensor'></a></h2>"
   ]
  },
  {
   "cell_type": "code",
   "execution_count": 9,
   "id": "eac29d24-2f6f-47a5-8445-aaa47f0d4f7d",
   "metadata": {},
   "outputs": [
    {
     "name": "stdout",
     "output_type": "stream",
     "text": [
      "torch.Size([2, 3, 4])\n",
      "torch.Size([2, 3, 4])\n"
     ]
    }
   ],
   "source": [
    "a = torch.zeros(2, 3, 4)\n",
    "print(a.shape)\n",
    "print(a.size())"
   ]
  },
  {
   "cell_type": "markdown",
   "id": "da0afbce-1777-419d-ad0b-d26ece71cfde",
   "metadata": {},
   "source": [
    "<font color='#808080'>\n",
    "\n",
    "as you see above The shape of a tensor can be accessed using the ```shape``` property or the ```size()``` function. If you want to see how many dimensions you have __(i.e., 2 × 3 × 4 is 3 and 3 × 4 is 2)__, you can read the ndim property:"
   ]
  },
  {
   "cell_type": "code",
   "execution_count": 10,
   "id": "a88d5ce6-47dd-4a95-a81b-50cf820ae45b",
   "metadata": {},
   "outputs": [
    {
     "name": "stdout",
     "output_type": "stream",
     "text": [
      "3\n"
     ]
    }
   ],
   "source": [
    "print(a.ndim)"
   ]
  },
  {
   "cell_type": "markdown",
   "id": "f9690982-9c59-4361-89d3-b36c39c866b0",
   "metadata": {},
   "source": [
    "<font color='#808080'>\n",
    "    \n",
    "If you use __len()__ to check a tensor, it will only give you __the size of the\n",
    "first dimension__, e.g.:"
   ]
  },
  {
   "cell_type": "code",
   "execution_count": 11,
   "id": "ccb40954-cbc0-45c4-9625-bf539b0fea9e",
   "metadata": {},
   "outputs": [
    {
     "name": "stdout",
     "output_type": "stream",
     "text": [
      "2\n"
     ]
    }
   ],
   "source": [
    "a = torch.zeros(2, 3, 4)\n",
    "print(len(a))"
   ]
  },
  {
   "cell_type": "markdown",
   "id": "c018c5ba-80e4-48a1-bce7-8ca2b3645b2d",
   "metadata": {},
   "source": [
    "<font color='#808080'>\n",
    "To check the data type, you can read the dtype property:"
   ]
  },
  {
   "cell_type": "code",
   "execution_count": 12,
   "id": "0a66f6fc-c3b9-446c-bca9-9fa07607c9c3",
   "metadata": {},
   "outputs": [
    {
     "name": "stdout",
     "output_type": "stream",
     "text": [
      "torch.float32\n"
     ]
    }
   ],
   "source": [
    "print(a.dtype)"
   ]
  },
  {
   "cell_type": "markdown",
   "id": "273e5619-46ed-4908-aa8e-61a08de5bb27",
   "metadata": {},
   "source": [
    "<font color='#808080'>\n",
    "If you want to change the data type, you can recreate the tensor with a new type:"
   ]
  },
  {
   "cell_type": "code",
   "execution_count": 13,
   "id": "895a908b-94bf-49b3-a80d-9feaabd40275",
   "metadata": {},
   "outputs": [
    {
     "name": "stdout",
     "output_type": "stream",
     "text": [
      "torch.float32\n",
      "torch.int32\n",
      "tensor([[[0., 0., 0., 0.],\n",
      "         [0., 0., 0., 0.],\n",
      "         [0., 0., 0., 0.]],\n",
      "\n",
      "        [[0., 0., 0., 0.],\n",
      "         [0., 0., 0., 0.],\n",
      "         [0., 0., 0., 0.]]])\n",
      "tensor([[[0, 0, 0, 0],\n",
      "         [0, 0, 0, 0],\n",
      "         [0, 0, 0, 0]],\n",
      "\n",
      "        [[0, 0, 0, 0],\n",
      "         [0, 0, 0, 0],\n",
      "         [0, 0, 0, 0]]], dtype=torch.int32)\n"
     ]
    }
   ],
   "source": [
    "a = torch.zeros(2, 3, 4)\n",
    "b = a.type(torch.int32)\n",
    "print(a.dtype)\n",
    "print(b.dtype)\n",
    "print(a)\n",
    "print(b)"
   ]
  },
  {
   "cell_type": "markdown",
   "id": "5e9ba80b-4b2c-40ee-be52-d916b168f496",
   "metadata": {},
   "source": [
    "### <h2 style=\"color: blue;\"> 2.1.5. Manipulating Tensors <a id='Manipulating_Tensors'></a></h2>"
   ]
  },
  {
   "cell_type": "markdown",
   "id": "22ce6cfc-405e-4868-963e-cf5eab9e6da5",
   "metadata": {},
   "source": [
    "<font color='#808080'>\n",
    "you may want to convert a 2D tensor into 1D or add a dummy dimension to a tensor. You\n",
    "may also want to extract a sub-tensor from a larger tensor."
   ]
  },
  {
   "cell_type": "markdown",
   "id": "448d60eb-39b7-4f3a-a109-e59b0d9e9749",
   "metadata": {},
   "source": [
    "#### <h2 style=\"color: blue;\"> 2.1.5.1. slice <a id='slice'></a></h2>"
   ]
  },
  {
   "cell_type": "markdown",
   "id": "9bb017ec-6288-41d8-aa53-d6d891cf99da",
   "metadata": {},
   "source": [
    "<font color='#808080'>\n",
    "- you can take a slice using the same syntax as in NumPy:"
   ]
  },
  {
   "cell_type": "code",
   "execution_count": 14,
   "id": "04f64172-9ee3-456e-a5ea-3daa2d3a437d",
   "metadata": {},
   "outputs": [
    {
     "name": "stdout",
     "output_type": "stream",
     "text": [
      "tensor([[[ 2.4783, -2.1512, -2.3580, -1.6309, -0.1482],\n",
      "         [ 0.0906,  0.1880, -1.6095, -0.4964, -0.5369],\n",
      "         [ 0.1554, -0.5050,  1.0899,  0.6208, -2.2213],\n",
      "         [-0.2053, -1.1460, -0.9061, -1.5484, -0.3300]],\n",
      "\n",
      "        [[-0.1491,  0.2771,  0.0305,  0.2533,  0.6883],\n",
      "         [-1.8771, -0.5342,  0.1262,  0.4503, -0.0885],\n",
      "         [ 0.7275,  0.8043,  0.7352,  0.1957, -1.3565],\n",
      "         [ 0.4322,  0.6055, -0.7531, -0.3859,  1.0720]],\n",
      "\n",
      "        [[ 0.1884, -0.0122, -0.1755,  0.5615,  0.4546],\n",
      "         [ 0.1164,  0.6964,  0.4725, -2.0595,  0.0821],\n",
      "         [-1.2892, -1.5249,  0.1295, -1.0092, -0.8244],\n",
      "         [-1.7055, -0.2025,  0.6838, -0.8539, -1.7009]]])\n",
      "------------------------------------------------------------------------------------------\n",
      "tensor([[-0.1491,  0.2771,  0.0305,  0.2533,  0.6883],\n",
      "        [-1.8771, -0.5342,  0.1262,  0.4503, -0.0885],\n",
      "        [ 0.7275,  0.8043,  0.7352,  0.1957, -1.3565],\n",
      "        [ 0.4322,  0.6055, -0.7531, -0.3859,  1.0720]])\n"
     ]
    }
   ],
   "source": [
    "a = torch.randn(3,4,5)\n",
    "print(a)\n",
    "print(90 * '-')\n",
    "print(a[1])"
   ]
  },
  {
   "cell_type": "code",
   "execution_count": 15,
   "id": "d4258eb7-ba07-4e0b-b07f-0382a04bd4cb",
   "metadata": {},
   "outputs": [
    {
     "name": "stdout",
     "output_type": "stream",
     "text": [
      "tensor([[[ 2.4783, -2.1512, -2.3580, -1.6309, -0.1482],\n",
      "         [ 0.0906,  0.1880, -1.6095, -0.4964, -0.5369],\n",
      "         [ 0.1554, -0.5050,  1.0899,  0.6208, -2.2213],\n",
      "         [-0.2053, -1.1460, -0.9061, -1.5484, -0.3300]],\n",
      "\n",
      "        [[-0.1491,  0.2771,  0.0305,  0.2533,  0.6883],\n",
      "         [-1.8771, -0.5342,  0.1262,  0.4503, -0.0885],\n",
      "         [ 0.7275,  0.8043,  0.7352,  0.1957, -1.3565],\n",
      "         [ 0.4322,  0.6055, -0.7531, -0.3859,  1.0720]],\n",
      "\n",
      "        [[ 0.1884, -0.0122, -0.1755,  0.5615,  0.4546],\n",
      "         [ 0.1164,  0.6964,  0.4725, -2.0595,  0.0821],\n",
      "         [-1.2892, -1.5249,  0.1295, -1.0092, -0.8244],\n",
      "         [-1.7055, -0.2025,  0.6838, -0.8539, -1.7009]]])\n",
      "------------------------------------------------------------------------------------------\n",
      "tensor([[[ 0.7275,  0.8043,  0.7352,  0.1957, -1.3565],\n",
      "         [ 0.4322,  0.6055, -0.7531, -0.3859,  1.0720]],\n",
      "\n",
      "        [[-1.2892, -1.5249,  0.1295, -1.0092, -0.8244],\n",
      "         [-1.7055, -0.2025,  0.6838, -0.8539, -1.7009]]])\n"
     ]
    }
   ],
   "source": [
    "print(a)\n",
    "print(90 * '-')\n",
    "print(a[1:, 2:4])"
   ]
  },
  {
   "cell_type": "markdown",
   "id": "f73c7a31-021d-4213-aec9-b2c679ac30f0",
   "metadata": {},
   "source": [
    "<font color='#808080'>\n",
    "    \n",
    "You can also make use of the same slicing syntax to add a new dimension. in the following syntax wherever you see ```None```, you put 1 in that exact place. "
   ]
  },
  {
   "cell_type": "code",
   "execution_count": 16,
   "id": "7a484ba9-1492-4c15-883c-64b96ee18028",
   "metadata": {},
   "outputs": [
    {
     "name": "stdout",
     "output_type": "stream",
     "text": [
      "torch.Size([3, 1, 4, 1, 5])\n"
     ]
    }
   ],
   "source": [
    "print(a[:, None, :, None].shape)"
   ]
  },
  {
   "cell_type": "markdown",
   "id": "1053c959-49dd-4cf7-8fc1-5a468744a9d3",
   "metadata": {},
   "source": [
    "<font color='#808080'>\n",
    "    \n",
    "another way is using ``` unsqueeze() ``` function which is demonstrated below:"
   ]
  },
  {
   "cell_type": "code",
   "execution_count": 17,
   "id": "f07bdb38-3128-4fab-90d4-0b99384436a2",
   "metadata": {},
   "outputs": [
    {
     "name": "stdout",
     "output_type": "stream",
     "text": [
      "torch.Size([3, 4, 5])\n",
      "torch.Size([3, 4, 1, 5])\n"
     ]
    }
   ],
   "source": [
    "b = torch.unsqueeze(a, dim=2)\n",
    "print(a.shape)\n",
    "print(b.shape)"
   ]
  },
  {
   "cell_type": "markdown",
   "id": "bf6b7f79-719b-4a5c-bd45-e5a8226ca7fa",
   "metadata": {},
   "source": [
    "#### <h2 style=\"color: blue;\"> 2.1.5.2. Boolean indexing <a id='Boolean_indexing'></a></h2>"
   ]
  },
  {
   "cell_type": "markdown",
   "id": "17608e28-44a1-4f70-b0f1-ffcfaeac224f",
   "metadata": {},
   "source": [
    "<font color='#808080'>\n",
    "\n",
    "One powerful nature of NumPy slicing syntax is Boolean indexing. This is also supported\n",
    "with PyTorch tensors. For example:"
   ]
  },
  {
   "cell_type": "code",
   "execution_count": 18,
   "id": "a7082055-8762-470f-947d-f4f30aa333cd",
   "metadata": {},
   "outputs": [
    {
     "name": "stdout",
     "output_type": "stream",
     "text": [
      "tensor([[-0.3481,  0.4340,  0.2699,  2.9388],\n",
      "        [-0.4677, -0.9639,  0.2658,  0.7829],\n",
      "        [-0.8689,  1.7310,  1.3650, -1.1342]])\n",
      "----------------------------------------\n",
      "tensor([[-0.3481,  0.4340,  0.2699],\n",
      "        [-0.4677, -0.9639,  0.2658],\n",
      "        [-0.8689,  1.7310,  1.3650]])\n"
     ]
    }
   ],
   "source": [
    "a = torch.randn(3,4)\n",
    "print(a)\n",
    "print(40*'-')\n",
    "print(a[:, (a > -1).all(axis=0)])"
   ]
  },
  {
   "cell_type": "markdown",
   "id": "594be624-033c-4b9f-8a8e-a84b88206fa3",
   "metadata": {},
   "source": [
    "<font color='#808080'>\n",
    "You can also manipulate the tensor by selecting specific columns:"
   ]
  },
  {
   "cell_type": "code",
   "execution_count": 19,
   "id": "4a06267c-90c0-4f65-8485-3aef99777c9d",
   "metadata": {},
   "outputs": [
    {
     "name": "stdout",
     "output_type": "stream",
     "text": [
      "tensor([[ 0.4340, -0.3481, -0.3481,  0.4340],\n",
      "        [-0.9639, -0.4677, -0.4677, -0.9639],\n",
      "        [ 1.7310, -0.8689, -0.8689,  1.7310]])\n"
     ]
    }
   ],
   "source": [
    "print(a[:, [1,0,0,1]])"
   ]
  },
  {
   "cell_type": "markdown",
   "id": "5e36f9e7-f93b-411f-803f-bba1859616f2",
   "metadata": {},
   "source": [
    "#### <h2 style=\"color: blue;\"> 2.1.5.3. reshape <a id='reshape'></a></h2>"
   ]
  },
  {
   "cell_type": "markdown",
   "id": "4177bf72-7b8c-4f1b-bdf8-d60a47bca387",
   "metadata": {},
   "source": [
    "<font color='#808080'>\n",
    "    \n",
    "To convert a ```2D``` tensor into ```1D```, you can use:"
   ]
  },
  {
   "cell_type": "code",
   "execution_count": 20,
   "id": "8d10d7da-53a2-444c-8de7-e6909c824934",
   "metadata": {},
   "outputs": [
    {
     "name": "stdout",
     "output_type": "stream",
     "text": [
      "tensor([[ 1.7105, -0.7505,  0.0458,  1.2885],\n",
      "        [ 0.0863,  1.0894, -0.0039, -0.7515],\n",
      "        [-0.2305,  0.7651,  0.5826,  0.9667]])\n",
      "tensor([ 1.7105, -0.7505,  0.0458,  1.2885,  0.0863,  1.0894, -0.0039, -0.7515,\n",
      "        -0.2305,  0.7651,  0.5826,  0.9667])\n"
     ]
    }
   ],
   "source": [
    "a = torch.randn(3,4)\n",
    "print(a)\n",
    "print(a.ravel())"
   ]
  },
  {
   "cell_type": "markdown",
   "id": "a0408659-0dad-4559-abcb-ac88e10f1905",
   "metadata": {},
   "source": [
    "<font color='#808080'>\n",
    "    \n",
    "You may also use the ``` reshape()``` function to achieve the same:"
   ]
  },
  {
   "cell_type": "code",
   "execution_count": 21,
   "id": "109570e2-aef0-4059-bb70-80066c06f361",
   "metadata": {},
   "outputs": [
    {
     "name": "stdout",
     "output_type": "stream",
     "text": [
      "tensor([ 1.7105, -0.7505,  0.0458,  1.2885,  0.0863,  1.0894, -0.0039, -0.7515,\n",
      "        -0.2305,  0.7651,  0.5826,  0.9667])\n"
     ]
    }
   ],
   "source": [
    "print(a.reshape(-1))"
   ]
  },
  {
   "cell_type": "markdown",
   "id": "f830c323-a994-4300-9c57-06c699d3655c",
   "metadata": {},
   "source": [
    "<font color='#808080'>\n",
    "    \n",
    "The result should be the same as that of __ravel()__. But usually, the __reshape()__ function is for\n",
    "more complicated target shapes:"
   ]
  },
  {
   "cell_type": "code",
   "execution_count": 22,
   "id": "8f6ef2ad-da6a-4b3b-a9ad-378e6fb7748b",
   "metadata": {},
   "outputs": [
    {
     "name": "stdout",
     "output_type": "stream",
     "text": [
      "tensor([[[ 1.7105, -0.7505],\n",
      "         [ 0.0458,  1.2885]],\n",
      "\n",
      "        [[ 0.0863,  1.0894],\n",
      "         [-0.0039, -0.7515]],\n",
      "\n",
      "        [[-0.2305,  0.7651],\n",
      "         [ 0.5826,  0.9667]]])\n"
     ]
    }
   ],
   "source": [
    "print(a.reshape(3,2,2))"
   ]
  },
  {
   "cell_type": "markdown",
   "id": "7e46b2d0-80ae-49b8-80b5-8bd8d2a16a52",
   "metadata": {},
   "source": [
    "<font color='#808080'>\n",
    "    \n",
    "One common case of reshaping tensors is to do _matrix transpose_. For a 2D matrix, it is easily\n",
    "done in the same way as NumPy:"
   ]
  },
  {
   "cell_type": "code",
   "execution_count": 23,
   "id": "787f3074-c3bf-48ef-8ea0-6360cbd1dffe",
   "metadata": {},
   "outputs": [
    {
     "name": "stdout",
     "output_type": "stream",
     "text": [
      "tensor([[ 1.7105,  0.0863, -0.2305],\n",
      "        [-0.7505,  1.0894,  0.7651],\n",
      "        [ 0.0458, -0.0039,  0.5826],\n",
      "        [ 1.2885, -0.7515,  0.9667]])\n"
     ]
    }
   ],
   "source": [
    "print(a.T)"
   ]
  },
  {
   "cell_type": "markdown",
   "id": "89cff64b-5474-4bb1-974b-864a7bad9625",
   "metadata": {},
   "source": [
    "<font color='#808080'>\n",
    "    \n",
    "the ```transpose()``` method is used to swap two specific dimensions of a tensor. It's particularly useful for reordering dimensions in multi-dimensional tensors.\n",
    "\n",
    "__Syntax:__\n",
    "\n",
    "``` torch.transpose(input, dim0, dim1) ```\n",
    "\n",
    "__Parameters:__\n",
    "- ```input```: The input tensor whose dimensions you want to swap.\n",
    "- ```dim0```: The first dimension to swap.\n",
    "- ```dim1```: The second dimension to swap.\n",
    "this command returns A new tensor with dimensions dim0 and dim1 swapped. This operation does not copy data; it creates a view of the original tensor with the new dimensional ordering."
   ]
  },
  {
   "cell_type": "code",
   "execution_count": 24,
   "id": "2c42219d-6b8d-4308-88f1-7cb4b51a4b6b",
   "metadata": {},
   "outputs": [
    {
     "name": "stdout",
     "output_type": "stream",
     "text": [
      "tensor([[ 1.7105,  0.0863, -0.2305],\n",
      "        [-0.7505,  1.0894,  0.7651],\n",
      "        [ 0.0458, -0.0039,  0.5826],\n",
      "        [ 1.2885, -0.7515,  0.9667]])\n"
     ]
    }
   ],
   "source": [
    "print(a.transpose(0, 1))"
   ]
  },
  {
   "cell_type": "markdown",
   "id": "b21539a1-4541-4390-b321-d3239c4a0fc0",
   "metadata": {},
   "source": [
    "#### <h2 style=\"color: blue;\"> 2.1.5.4. combine and split tensors <a id='combine'></a></h2>"
   ]
  },
  {
   "cell_type": "markdown",
   "id": "ef6e4db8-6931-41cb-a9d8-c791079e2032",
   "metadata": {},
   "source": [
    "<font color='#808080'>\n",
    "    \n",
    "If you have multiple tensors, you can combine them by stacking them (```vstack()``` for __vertically__ and ```hstack()``` for __horizontally__). For example:"
   ]
  },
  {
   "cell_type": "code",
   "execution_count": 25,
   "id": "787a0722-9dca-4b2d-b688-028ada7ed60a",
   "metadata": {},
   "outputs": [
    {
     "name": "stdout",
     "output_type": "stream",
     "text": [
      "tensor([[-1.1138, -0.1918, -0.4189],\n",
      "        [ 0.6547, -0.3497,  1.1590],\n",
      "        [-1.4213,  1.0505, -0.7408]])\n",
      "tensor([[ 1.8231,  1.0348, -1.2427],\n",
      "        [-0.2762,  0.7268, -1.2813],\n",
      "        [-0.4526,  0.3099, -0.3350]])\n",
      "tensor([[-1.1138, -0.1918, -0.4189],\n",
      "        [ 0.6547, -0.3497,  1.1590],\n",
      "        [-1.4213,  1.0505, -0.7408],\n",
      "        [ 1.8231,  1.0348, -1.2427],\n",
      "        [-0.2762,  0.7268, -1.2813],\n",
      "        [-0.4526,  0.3099, -0.3350]])\n"
     ]
    }
   ],
   "source": [
    "a = torch.randn(3,3)\n",
    "b = torch.randn(3,3)\n",
    "print(a)\n",
    "print(b)\n",
    "print(torch.vstack([a,b]))"
   ]
  },
  {
   "cell_type": "markdown",
   "id": "3302278f-5a44-4a50-99aa-ae89642f7bd2",
   "metadata": {},
   "source": [
    "<font color='#808080'>\n",
    "    \n",
    "The ```concatenate``` function is similar:"
   ]
  },
  {
   "cell_type": "code",
   "execution_count": 26,
   "id": "08379dfb-95b4-4783-99fa-98ba59f118ce",
   "metadata": {},
   "outputs": [
    {
     "name": "stdout",
     "output_type": "stream",
     "text": [
      "tensor([[-1.1138, -0.1918, -0.4189],\n",
      "        [ 0.6547, -0.3497,  1.1590],\n",
      "        [-1.4213,  1.0505, -0.7408],\n",
      "        [ 1.8231,  1.0348, -1.2427],\n",
      "        [-0.2762,  0.7268, -1.2813],\n",
      "        [-0.4526,  0.3099, -0.3350]])\n"
     ]
    }
   ],
   "source": [
    "c = torch.concatenate([a, b])\n",
    "print(c)"
   ]
  },
  {
   "cell_type": "markdown",
   "id": "8a35f558-26f5-45b1-9fff-2c8408607434",
   "metadata": {},
   "source": [
    "<font color='#808080'>\n",
    "    \n",
    "The reverse is to ```split```, e.g.,"
   ]
  },
  {
   "cell_type": "code",
   "execution_count": 27,
   "id": "81c36045-8b18-4242-b172-68335e975c21",
   "metadata": {},
   "outputs": [
    {
     "name": "stdout",
     "output_type": "stream",
     "text": [
      "(tensor([[-1.1138, -0.1918, -0.4189],\n",
      "        [ 0.6547, -0.3497,  1.1590],\n",
      "        [-1.4213,  1.0505, -0.7408]]), tensor([[ 1.8231,  1.0348, -1.2427],\n",
      "        [-0.2762,  0.7268, -1.2813],\n",
      "        [-0.4526,  0.3099, -0.3350]]))\n"
     ]
    }
   ],
   "source": [
    "print(torch.vsplit(c, 2))"
   ]
  },
  {
   "cell_type": "markdown",
   "id": "306ef804-a27b-4264-bd9a-6519abba7d47",
   "metadata": {},
   "source": [
    "<font color='#808080'>\n",
    "\n",
    "In PyTorch, the ```torch.split()``` function is used to split a tensor into multiple smaller tensors along a specified dimension. This is helpful for dividing data into smaller chunks or batches.\n",
    "\n",
    "__Syntax:__\n",
    "\n",
    "```torch.split(tensor, split_size_or_sections, dim=0)```\n",
    "__Parameters:__\n",
    "\n",
    "1. ```tensor:``` The input tensor to be split.\n",
    "2. ```split_size_or_sections:```If an integer is provided, the tensor is split into equally sized chunks (the last chunk may be smaller if the tensor size isn't evenly divisible). If a list of integers is provided, it specifies the sizes of each chunk.\n",
    "3. ```dim (optional):``` The dimension along which to split the tensor. The default is 0.\n",
    "\n",
    "this command Returns a tuple of smaller tensors resulting from the split.\n"
   ]
  },
  {
   "cell_type": "code",
   "execution_count": 28,
   "id": "5805ca13-a4c5-4dfb-a432-01da4abf5e21",
   "metadata": {},
   "outputs": [
    {
     "name": "stdout",
     "output_type": "stream",
     "text": [
      "(tensor([[-1.1138, -0.1918, -0.4189],\n",
      "        [ 0.6547, -0.3497,  1.1590],\n",
      "        [-1.4213,  1.0505, -0.7408]]), tensor([[ 1.8231,  1.0348, -1.2427],\n",
      "        [-0.2762,  0.7268, -1.2813],\n",
      "        [-0.4526,  0.3099, -0.3350]]))\n"
     ]
    }
   ],
   "source": [
    "print(torch.split(c, 3, dim=0))"
   ]
  },
  {
   "cell_type": "markdown",
   "id": "2cc2fbfc-4ddd-443a-be7f-a92bb64f5e3a",
   "metadata": {},
   "source": [
    "## <h2 style=\"color: blue;\"> 2.2. Tensor Functions <a id='Tensor_Functions'></a></h2>"
   ]
  },
  {
   "cell_type": "markdown",
   "id": "72635100-edbf-4da2-8de7-2411c0fecdb9",
   "metadata": {},
   "source": [
    "<font color='#808080'>\n",
    "PyTorch tensors can be treated as arrays. So you can often use it in a similar way as NumPy arrays. For example, you have the functions of common mathematical functions:\n",
    "\n",
    "Note that if a function is undefined (e.g., square root of negative numbers), nan will be the\n",
    "result, but no exception will be raised."
   ]
  },
  {
   "cell_type": "code",
   "execution_count": 30,
   "id": "ce94af82-aed2-4998-a20a-be34347c7f91",
   "metadata": {},
   "outputs": [
    {
     "name": "stdout",
     "output_type": "stream",
     "text": [
      "tensor([[-1.3121,  0.1292, -0.0975],\n",
      "        [-0.1630, -0.4384, -0.6997]])\n",
      "exp = tensor([[0.2693, 1.1379, 0.9071],\n",
      "        [0.8496, 0.6450, 0.4967]])\n",
      "log = tensor([[    nan, -2.0467,     nan],\n",
      "        [    nan,     nan,     nan]])\n",
      "sin = tensor([[-0.9667,  0.1288, -0.0974],\n",
      "        [-0.1623, -0.4245, -0.6440]])\n",
      "arctan = tensor([[-0.9196,  0.1284, -0.0972],\n",
      "        [-0.1616, -0.4132, -0.6106]])\n",
      "abs = tensor([[1.3121, 0.1292, 0.0975],\n",
      "        [0.1630, 0.4384, 0.6997]])\n",
      "square = tensor([[1.7215, 0.0167, 0.0095],\n",
      "        [0.0266, 0.1922, 0.4896]])\n",
      "sqrt = tensor([[   nan, 0.3594,    nan],\n",
      "        [   nan,    nan,    nan]])\n",
      "ceil = tensor([[-1.,  1., -0.],\n",
      "        [-0., -0., -0.]])\n",
      "round = tensor([[-1.,  0., -0.],\n",
      "        [-0., -0., -1.]])\n",
      "clip = tensor([[0.1000, 0.1292, 0.1000],\n",
      "        [0.1000, 0.1000, 0.1000]])\n"
     ]
    }
   ],
   "source": [
    "a = torch.randn(2,3)\n",
    "print(a)\n",
    "print(\"exp =\", torch.exp(a))\n",
    "print(\"log =\", torch.log(a))\n",
    "print(\"sin =\", torch.sin(a))\n",
    "print(\"arctan =\", torch.arctan(a))\n",
    "print(\"abs =\", torch.abs(a))\n",
    "print(\"square =\", torch.square(a))\n",
    "print(\"sqrt =\", torch.sqrt(a))\n",
    "print(\"ceil =\", torch.ceil(a))\n",
    "print(\"round =\", torch.round(a))\n",
    "print(\"clip =\", torch.clip(a, 0.1, 0.9))"
   ]
  },
  {
   "cell_type": "markdown",
   "id": "7b62450a-436d-4035-8ec7-59f21814daa9",
   "metadata": {},
   "source": [
    "<font color='#808080'>\n",
    "    \n",
    "In PyTorch, you have a function to check if the values of a tensor are ```nan```:"
   ]
  },
  {
   "cell_type": "code",
   "execution_count": 31,
   "id": "d129f70b-b953-49f1-9a66-96955e14de19",
   "metadata": {},
   "outputs": [
    {
     "name": "stdout",
     "output_type": "stream",
     "text": [
      "tensor([[   nan, 0.3594,    nan],\n",
      "        [   nan,    nan,    nan]])\n",
      "tensor([[ True, False,  True],\n",
      "        [ True,  True,  True]])\n"
     ]
    }
   ],
   "source": [
    "b = torch.sqrt(a)\n",
    "print(b)\n",
    "print(torch.isnan(b))"
   ]
  },
  {
   "cell_type": "markdown",
   "id": "c2654f8b-29bd-4a2a-9bed-0a6f48370876",
   "metadata": {},
   "source": [
    "<font color='#808080'>\n",
    "Indeed, besides these defined functions, the Python operators can be applied to the tensors\n",
    "too:"
   ]
  },
  {
   "cell_type": "code",
   "execution_count": 32,
   "id": "66f7ac7d-168e-4737-8ad5-46ab2089ada5",
   "metadata": {},
   "outputs": [
    {
     "name": "stdout",
     "output_type": "stream",
     "text": [
      "tensor([[ 0.1990,  0.8918,  0.8071],\n",
      "        [ 1.0776,  1.1753, -0.8518]])\n",
      "tensor([[ 0.0700,  0.5481,  0.1910],\n",
      "        [-0.2900,  0.0932, -0.1750]])\n",
      "tensor([[ 0.2690,  1.4399,  0.9981],\n",
      "        [ 0.7877,  1.2686, -1.0268]])\n",
      "tensor([[ 2.8423,  1.6272,  4.2248],\n",
      "        [-3.7166, 12.6069,  4.8661]])\n",
      "tensor([[0.0396, 0.7954, 0.6514],\n",
      "        [1.1613, 1.3814, 0.7255]])\n"
     ]
    }
   ],
   "source": [
    "a = torch.randn(2, 3)\n",
    "b = torch.randn(2, 3)\n",
    "print(a)\n",
    "print(b)\n",
    "print(a+b)\n",
    "print(a/b)\n",
    "print(a ** 2)"
   ]
  },
  {
   "cell_type": "markdown",
   "id": "46d37928-2c7a-4730-ae39-84dd687168a7",
   "metadata": {},
   "source": [
    "<font color='#808080'>\n",
    "\n",
    "__Multiplication__ :\n",
    "\n",
    "1.  ```*``` (Element-wise Multiplication):\n",
    "   - Performs element-wise multiplication.\n",
    "   - Each element in the first tensor is multiplied by the corresponding element in the second tensor.\n",
    "   - The tensors must have compatible shapes according to PyTorch's broadcasting rules.\n",
    "\n",
    "2. ```@``` or ```torch.matmul()``` (Matrix Multiplication):\n",
    "\n",
    "   - Performs matrix multiplication.\n",
    "   - For 2D tensors, it follows the standard matrix multiplication rules: the number of columns in the first matrix must match the number of rows in the second matrix.\n",
    "   - For higher-dimensional tensors, it performs batch-wise matrix multiplication.\n",
    "\n",
    "__Key Differences:__\n",
    "  \n",
    "\n",
    "<table style=\"width:100%; border: 1px solid black; border-collapse: collapse; text-align: left;\">\n",
    "  <thead>\n",
    "    <tr style=\"background-color: #f2f2f2;\">\n",
    "      <th style=\"padding: 8px; border: 1px solid black; color: #003366; font-weight: bold;\">Operation</th>\n",
    "      <th style=\"padding: 8px; border: 1px solid black; color: #003366; font-weight: bold;\">`*` (Element-wise Multiplication)</th>\n",
    "      <th style=\"padding: 8px; border: 1px solid black; color: #003366; font-weight: bold;\">`@` / `torch.matmul()` (Matrix Multiplication)</th>\n",
    "    </tr>\n",
    "  </thead>\n",
    "  <tbody>\n",
    "    <tr>\n",
    "      <td style=\"padding: 8px; border: 1px solid black; color: #003366;\">Type of Multiplication</td>\n",
    "      <td style=\"padding: 8px; border: 1px solid black; background-color: #d9ead3; color: #003366;\">Element-wise</td>\n",
    "      <td style=\"padding: 8px; border: 1px solid black; background-color: #cfe2f3; color: #003366;\">Matrix or batch matrix</td>\n",
    "    </tr>\n",
    "    <tr>\n",
    "      <td style=\"padding: 8px; border: 1px solid black; color: #003366;\">Shape Requirements</td>\n",
    "      <td style=\"padding: 8px; border: 1px solid black; background-color: #d9ead3; color: #003366;\">Compatible (broadcastable)</td>\n",
    "      <td style=\"padding: 8px; border: 1px solid black; background-color: #cfe2f3; color: #003366;\">Matrix multiplication rules</td>\n",
    "    </tr>\n",
    "    <tr>\n",
    "      <td style=\"padding: 8px; border: 1px solid black; color: #003366;\">Example Input Shapes</td>\n",
    "      <td style=\"padding: 8px; border: 1px solid black; background-color: #d9ead3; color: #003366;\">`[2, 2] * [2, 2]`</td>\n",
    "      <td style=\"padding: 8px; border: 1px solid black; background-color: #cfe2f3; color: #003366;\">`[2, 2] @ [2, 2]`</td>\n",
    "    </tr>\n",
    "    <tr>\n",
    "      <td style=\"padding: 8px; border: 1px solid black; color: #003366;\">Example Output</td>\n",
    "      <td style=\"padding: 8px; border: 1px solid black; background-color: #d9ead3; color: #003366;\">Element-wise product</td>\n",
    "      <td style=\"padding: 8px; border: 1px solid black; background-color: #cfe2f3; color: #003366;\">Dot products (matrix result)</td>\n",
    "    </tr>\n",
    "  </tbody>\n",
    "</table>\n",
    "\n",
    "\n"
   ]
  },
  {
   "cell_type": "code",
   "execution_count": 33,
   "id": "6047febd-5a4f-4726-9f81-d18a32a34e98",
   "metadata": {},
   "outputs": [
    {
     "name": "stdout",
     "output_type": "stream",
     "text": [
      "tensor([[ 0.6569, -0.1158],\n",
      "        [ 0.5569, -0.0538]])\n",
      "tensor([[ 0.6569, -0.1158],\n",
      "        [ 0.5569, -0.0538]])\n"
     ]
    }
   ],
   "source": [
    "print(torch.matmul(a, b.T))\n",
    "print(a @ b.T)"
   ]
  },
  {
   "cell_type": "markdown",
   "id": "753be677-6b8b-4da1-86ec-2b6b03439c16",
   "metadata": {},
   "source": [
    "<font color='#808080'>\n",
    "    \n",
    "the ```@``` operator from Python can also be used for vector dot-product, e.g.:"
   ]
  },
  {
   "cell_type": "code",
   "execution_count": 34,
   "id": "ccebb79a-ac27-4123-96f3-70d4e9ad9b43",
   "metadata": {},
   "outputs": [
    {
     "name": "stdout",
     "output_type": "stream",
     "text": [
      "tensor([ 0.7197, -0.8609, -1.7427])\n",
      "tensor([0.1220, 0.1015, 1.4517])\n",
      "tensor(-2.5294)\n",
      "tensor(-2.5294)\n"
     ]
    }
   ],
   "source": [
    "a = torch.randn(3)\n",
    "b = torch.randn(3)\n",
    "print(a)\n",
    "print(b)\n",
    "print(torch.dot(a, b))\n",
    "print(a @ b)"
   ]
  },
  {
   "cell_type": "markdown",
   "id": "be5289f8-2372-405a-a7f0-d108e6d83105",
   "metadata": {},
   "source": [
    "<font color='#808080'>\n",
    "    \n",
    "If you treat the values in a tensor as samples, you may also want to find some __statistics__ about it. Some are provided in PyTorch too:"
   ]
  },
  {
   "cell_type": "code",
   "execution_count": 35,
   "id": "c090b0f8-0c5e-496f-945d-349229c9a967",
   "metadata": {},
   "outputs": [
    {
     "name": "stdout",
     "output_type": "stream",
     "text": [
      "tensor([[-0.3698,  1.4770, -0.6383,  1.3888],\n",
      "        [ 0.0561,  1.5281, -0.4956,  2.0432],\n",
      "        [-1.8540,  0.2842, -0.2495,  1.5699]])\n",
      "tensor([-0.7226,  1.0964, -0.4611,  1.6673])\n",
      "tensor([1.0027, 0.7039, 0.1967, 0.3379])\n",
      "tensor([[-0.3698,  1.4770, -0.6383,  1.3888],\n",
      "        [-0.3137,  3.0051, -1.1338,  3.4321],\n",
      "        [-2.1677,  3.2893, -1.3834,  5.0020]])\n",
      "tensor([[-0.3698,  1.4770, -0.6383,  1.3888],\n",
      "        [-0.0207,  2.2570,  0.3163,  2.8377],\n",
      "        [ 0.0384,  0.6415, -0.0789,  4.4550]])\n"
     ]
    }
   ],
   "source": [
    "a = torch.randn(3,4)\n",
    "print(a)\n",
    "print(torch.mean(a, dim=0))\n",
    "print(torch.std(a, dim=0))\n",
    "print(torch.cumsum(a, dim=0))\n",
    "print(torch.cumprod(a, dim=0))"
   ]
  },
  {
   "cell_type": "markdown",
   "id": "b04a8d3a-58a3-4da5-99f5-c88e390c9895",
   "metadata": {},
   "source": [
    "<font color='#808080'>\n",
    "    \n",
    "In PyTorch, the ```linalg submodule``` provides linear algebra operations, similar to NumPy’s linear algebra functions, but optimized for PyTorch tensors, including GPU support. In this case, ```torch.linalg.svd(a)``` performs __Singular Value Decomposition (SVD)__ on the tensor a.\n",
    "\n",
    "__Explanation of torch.linalg.svd(a):__\n",
    "\n",
    "Singular Value Decomposition (SVD) is a factorization of a matrix A into three matrices:\n",
    "\n",
    "   $$ A = U \\cdot \\Sigma \\cdot V^T $$\n",
    "\n",
    "where:\n",
    "- $U$ is a matrix with orthogonal columns (left singular vectors).\n",
    "- $ \\Sigma $ (Sigma) is a diagonal matrix containing the singular values.\n",
    "- $ V^T $ is the transpose of a matrix with orthogonal rows (right singular vectors).\n",
    "\n",
    "suppose ``` a ``` is a 2D tensor (matrix) you want to decompose using SVD.\n",
    "\n",
    "```torch.linalg.svd(a)``` returns three outputs:\n",
    "* ```U``` (left singular vectors)\n",
    "* ```S``` (singular values, returned as a 1D tensor)\n",
    "* ```Vh``` (right singular vectors, where Vh is the conjugate transpose of V).\n",
    "To use the SVD for further calculations, you might often want to retain the singular values S in a diagonal matrix or explore U and Vh for other matrix factorization needs."
   ]
  },
  {
   "cell_type": "code",
   "execution_count": 36,
   "id": "163fa25b-332e-4289-b533-4544c6136a81",
   "metadata": {},
   "outputs": [
    {
     "name": "stdout",
     "output_type": "stream",
     "text": [
      "torch.return_types.linalg_svd(\n",
      "U=tensor([[ 0.5520,  0.2530,  0.7946],\n",
      "        [ 0.6508,  0.4651, -0.6001],\n",
      "        [ 0.5213, -0.8484, -0.0921]]),\n",
      "S=tensor([3.7767, 1.7351, 0.4289]),\n",
      "Vh=tensor([[-0.3003,  0.5184, -0.2131,  0.7718],\n",
      "        [ 0.8676,  0.4859, -0.1039, -0.0175],\n",
      "        [-0.3655,  0.5370, -0.4355, -0.6232],\n",
      "        [ 0.1532, -0.4547, -0.8684,  0.1252]]))\n"
     ]
    }
   ],
   "source": [
    "print(torch.linalg.svd(a))"
   ]
  },
  {
   "cell_type": "markdown",
   "id": "7e5caac0-a885-4a84-8bbb-e26421a63b6a",
   "metadata": {},
   "source": [
    "<font color='#808080'>\n",
    "    \n",
    "And specifically for convolution neural networks, ```padding``` a tensor is done with the following:\n",
    "This example of the __pad()__ function is to create __(1,1)__ padding on dimension __0__ and __(0,2)__ on dimension __1__. In other words, for each dimension 0 (rows), we add one dummy value (0) at the beginning and the end. For each dimension 1 (columns), we add zero dummy values at the beginning but two dummy values at the end."
   ]
  },
  {
   "cell_type": "code",
   "execution_count": 37,
   "id": "5087eafc-506a-47d7-a2de-8d1399e19b66",
   "metadata": {},
   "outputs": [
    {
     "name": "stdout",
     "output_type": "stream",
     "text": [
      "tensor([[ 0.0000, -0.3698,  1.4770, -0.6383,  1.3888,  0.0000],\n",
      "        [ 0.0000,  0.0561,  1.5281, -0.4956,  2.0432,  0.0000],\n",
      "        [ 0.0000, -1.8540,  0.2842, -0.2495,  1.5699,  0.0000],\n",
      "        [ 0.0000,  0.0000,  0.0000,  0.0000,  0.0000,  0.0000],\n",
      "        [ 0.0000,  0.0000,  0.0000,  0.0000,  0.0000,  0.0000]])\n"
     ]
    }
   ],
   "source": [
    "b = torch.nn.functional.pad(a, (1,1,0,2), value=0)\n",
    "print(b)"
   ]
  },
  {
   "cell_type": "markdown",
   "id": "9a326571-acbc-419c-82c8-3bb1041ecd43",
   "metadata": {},
   "source": [
    "<font color='#808080'>\n",
    "since PyTorch tensors can be considered arrays, you can use them directly with other tools such as matplotlib."
   ]
  },
  {
   "cell_type": "code",
   "execution_count": 38,
   "id": "581b4816-130e-4d98-bad9-e107b31fb646",
   "metadata": {},
   "outputs": [
    {
     "name": "stdout",
     "output_type": "stream",
     "text": [
      "tensor([[-1.0000, -0.9798, -0.9596,  ...,  0.9596,  0.9798,  1.0000],\n",
      "        [-1.0000, -0.9798, -0.9596,  ...,  0.9596,  0.9798,  1.0000],\n",
      "        [-1.0000, -0.9798, -0.9596,  ...,  0.9596,  0.9798,  1.0000],\n",
      "        ...,\n",
      "        [-1.0000, -0.9798, -0.9596,  ...,  0.9596,  0.9798,  1.0000],\n",
      "        [-1.0000, -0.9798, -0.9596,  ...,  0.9596,  0.9798,  1.0000],\n",
      "        [-1.0000, -0.9798, -0.9596,  ...,  0.9596,  0.9798,  1.0000]])\n"
     ]
    },
    {
     "data": {
      "image/png": "[encoded data removed]",
      "text/plain": [
       "<Figure size 800x800 with 1 Axes>"
      ]
     },
     "metadata": {},
     "output_type": "display_data"
    }
   ],
   "source": [
    "import matplotlib.pyplot as plt\n",
    "# create tensors\n",
    "x = torch.linspace(-1 , 1 , 100)\n",
    "y = torch.linspace(-2 , 2 , 100)\n",
    "# create the surface\n",
    "xx, yy = torch.meshgrid(x, y, indexing = \"xy\") # xy-indexing is matching numpy\n",
    "z = torch.sqrt(1 - xx ** 2 - (yy / 2) ** 2)\n",
    "print(xx)\n",
    "fig = plt.figure(figsize = (8,8))\n",
    "ax = plt.axes(projection = \"3d\")\n",
    "ax.set_xlim([-2 , 2])\n",
    "ax.set_ylim([-2 , 2])\n",
    "ax.set_zlim([0 , 2])\n",
    "ax.plot_surface(xx , yy , z , cmap = \"cividis\")\n",
    "ax.view_init(45 , 35)\n",
    "plt.show()"
   ]
  },
  {
   "cell_type": "code",
   "execution_count": null,
   "id": "3b29d460-9243-41ce-ac41-fde0b7b2362d",
   "metadata": {},
   "outputs": [],
   "source": []
  }
 ],
 "metadata": {
  "kernelspec": {
   "display_name": "Python 3 (ipykernel)",
   "language": "python",
   "name": "python3"
  },
  "language_info": {
   "codemirror_mode": {
    "name": "ipython",
    "version": 3
   },
   "file_extension": ".py",
   "mimetype": "text/x-python",
   "name": "python",
   "nbconvert_exporter": "python",
   "pygments_lexer": "ipython3",
   "version": "3.11.9"
  }
 },
 "nbformat": 4,
 "nbformat_minor": 5
}
