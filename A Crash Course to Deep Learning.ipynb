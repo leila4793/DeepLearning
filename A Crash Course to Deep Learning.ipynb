{
 "cells": [
  {
   "cell_type": "markdown",
   "id": "1d1c2338-f1f6-4032-8003-268a89afd28d",
   "metadata": {},
   "source": [
    "__contents:__\n",
    "1. [Neurons: Weights and Activations](#Neurons)\n",
    "   * 1.1. [Neuron Weights](#NeuronWeights)\n",
    "   * 1.2. [Activation](#Activation)\n",
    "   * 1.3. [Networks of Neurons](#NetworksofNeurons)\n",
    "     - 1.3.1. [Input or Visible Layers](#Input)\n",
    "     - 1.3.2. [Hidden Layers](#HiddenLayers)\n",
    "     - 1.3.3. [Output Layers](#OutputLayers)\n",
    "     - 1.3.4. [Training Networks](#TrainingNetworks)"
   ]
  },
  {
   "cell_type": "markdown",
   "id": "002a612b-2e56-4f88-b166-0ab2ccd74e34",
   "metadata": {},
   "source": [
    "# <h2 style=\"color: blue;\"> 1.Neurons: Weights and Activations <a id='Neurons'></a></h2>"
   ]
  },
  {
   "cell_type": "markdown",
   "id": "ccaebbfb-fe92-4d2b-84a2-d27d134dffc3",
   "metadata": {},
   "source": [
    "<font color='#808080'>\n",
    "\n",
    "The building blocks for neural networks are artificial neurons. These are simple computational\n",
    "units that have weighted input signals and produce an output signal using an activation\n",
    "function.\n",
    "\n",
    "<div style=\"text-align: center;\">\n",
    "    <img src=\"imgs/neuron.png\" alt=\"neuronImg\" width=\"400\"/>\n",
    "</div>"
   ]
  },
  {
   "cell_type": "markdown",
   "id": "17de9e6b-ec3d-447e-a4b1-47151207316f",
   "metadata": {},
   "source": [
    "## <h2 style=\"color: blue;\"> 1.1.Neuron Weights <a id='NeuronWeights'></a></h2>"
   ]
  },
  {
   "cell_type": "markdown",
   "id": "e2d553fb-8f58-42ee-8a4b-8c1e207fcffa",
   "metadata": {},
   "source": [
    "<font color='#808080'>\n",
    "\n",
    "Like linear regression, each neuron also has a bias which can be thought of as an input that always has the value $1.0$, and it, too, must be weighted.Weights are often initialized to small random values, such as values from $0$ to $0.3$, although more complex initialization schemes can be used."
   ]
  },
  {
   "cell_type": "markdown",
   "id": "aa28f734-4e83-4a4b-89e6-0e3329c7119b",
   "metadata": {},
   "source": [
    "## <h2 style=\"color: blue;\"> 1.2.Activation <a id='Import_Library'></a></h2>"
   ]
  },
  {
   "cell_type": "markdown",
   "id": "9b4898a1-a981-4934-8303-73a6df308c35",
   "metadata": {},
   "source": [
    "<font color='#808080'>\n",
    "\n",
    "The weighted inputs are summed and passed through an activation function, sometimes called a transfer function. An activation function is a simple mapping of summed weighted input to the output of the neuron.\n",
    "\n",
    "<div style=\"text-align: center;\">\n",
    "    <img src=\"imgs/AF.png\" alt=\"AF\" width = 400/>\n",
    "</div>\n",
    "\n",
    "* ```simple step```: activation functions were used When the summed input was __above__ a threshold of $0.5$, then the neuron would output a value of $1.0$; otherwise it would output a $0.0$.\n",
    "* ```the logistic function```, also called the __sigmoid function__, were used to output a value between $0$ and $1$ with an __S-shaped__ distribution.\n",
    "* ```The hyperbolic tangent function```, also called __tanh__, were used to output the same distribution over the range $−1$ to $+1$. \n",
    "* ```the rectifier activation function (ReLU)``` has been shown to provide better results."
   ]
  },
  {
   "cell_type": "markdown",
   "id": "c7d2d2db-d2ec-41c8-8d6d-827816cf5e94",
   "metadata": {},
   "source": [
    "## <h2 style=\"color: blue;\"> 1.3.Networks of Neurons <a id='NetworksofNeurons'></a></h2>"
   ]
  },
  {
   "cell_type": "markdown",
   "id": "c848f2cf-475f-437f-bd29-3534cd009943",
   "metadata": {},
   "source": [
    "<font color='#808080'>\n",
    "\n",
    "Neurons are arranged into networks of neurons. A row of neurons is called a __layer__, and one network can have multiple layers. The architecture of the neurons in the network is often called the __network topology__.\n",
    "<div style=\"text-align: center;\">\n",
    "    \n",
    "  <img src=\"imgs/NetworksofNeuron.png\" alt=\"Jupyter Logo\" width=\"400\">\n",
    "  \n",
    "</div>\n",
    "\n"
   ]
  },
  {
   "cell_type": "markdown",
   "id": "a88b537b-9b60-429b-a128-63d00f9272bb",
   "metadata": {},
   "source": [
    "### <h2 style=\"color: blue;\"> 1.3.1.Input or Visible Layers <a id='Input'></a></h2>"
   ]
  },
  {
   "cell_type": "markdown",
   "id": "5d28e001-134a-45fd-b4cb-b375d1f8c104",
   "metadata": {},
   "source": [
    "<font color='#808080'>\n",
    "\n",
    "The bottom layer that takes input from your dataset is called the visible layer because it is the\n",
    "exposed part of the network."
   ]
  },
  {
   "cell_type": "markdown",
   "id": "318ecfc0-d0da-44da-9fe4-aaa4fe2ecc2c",
   "metadata": {},
   "source": [
    "### <h2 style=\"color: blue;\"> 1.3.2.Hidden Layers <a id='HiddenLayers'></a></h2>"
   ]
  },
  {
   "cell_type": "markdown",
   "id": "d33dd3e1-2c66-4ceb-9d78-ca60ed743cf2",
   "metadata": {},
   "source": [
    "<font color='#808080'>\n",
    "\n",
    "Layers after the input layer are called hidden layers because they are not directly exposed to\n",
    "the input. The simplest network structure is to have a single neuron in the hidden layer that\n",
    "directly outputs the value. Given increases in computing power and efficient libraries, very\n",
    "deep neural networks can be constructed. __Deep learning__ can refer to having many hidden\n",
    "layers in your neural network. They are deep because they would have been unimaginably\n",
    "slow to train historically but may take seconds or minutes to train using modern techniques\n",
    "and hardware."
   ]
  },
  {
   "cell_type": "markdown",
   "id": "2f6198f5-51ae-43bf-9138-54b85a679695",
   "metadata": {},
   "source": [
    "### <h2 style=\"color: blue;\"> 1.3.3.Output Layers <a id='OutputLayers'></a></h2>"
   ]
  },
  {
   "cell_type": "markdown",
   "id": "b8fbcab2-c7e8-414f-b5c6-4d0977cbc138",
   "metadata": {},
   "source": [
    "<font color='#808080'>\n",
    "\n",
    "The final hidden layer is called the __output layer__, and it is responsible for outputting a value or vector of values that correspond to the format required for the problem. The choice of\n",
    "activation function in the output layer is strongly constrained by the type of problem that\n",
    "you are modeling:\n",
    "\n",
    "- ```A regression problem``` may have a __single__ output neuron, and the neuron may have __no activation function__.\n",
    "\n",
    "- ```A binary classification problem``` may have a single output neuron and use a __sigmoid activation function__ to output a value between $0$ and $1$ to represent the probability of the primary class as predicted. This can be turned into a crisp class value by using a threshold of $0.5$ and snap values less than the threshold to $0$, otherwise to $1$.\n",
    "\n",
    "- ```A multiclass classification problem``` may have multiple neurons in the output layer, one for each class (e.g., three neurons for the three classes in the famous iris flowers classification problem). In this case, a __softmax activation function__ may be used to output a probability of the network predicting each of the class values. Selecting the output with the highest probability can be used to produce a crisp classification value."
   ]
  },
  {
   "cell_type": "markdown",
   "id": "320d8d80-cee5-43a4-bcf6-a0faa582c766",
   "metadata": {},
   "source": [
    "### <h2 style=\"color: blue;\"> 1.3.4.Training Networks <a id='TrainingNetworks'></a></h2>"
   ]
  },
  {
   "cell_type": "markdown",
   "id": "74c899f1-b17d-457d-9f0e-ed1bdca9eef6",
   "metadata": {},
   "source": [
    "<font color='#808080'>\n",
    "    \n",
    "Once configured, the neural network needs to be trained on your dataset. The classical and still preferred training algorithm for neural networks is called __stochastic gradient descent__. This is where one row of data is exposed to the network at a time as input. The network processes the __input upward__, activating neurons as it goes to finally produce an output value. This is called _a forward pass on the network_. It is the type of pass that is also used after the network is trained in order to make predictions on new data.The output of the network is compared to the expected output, and an error is calculated. This error is then __propagated back__ through the network, one layer at a time, and the weights are updated according to the amount they contributed to the error. This clever bit of math is called the _backpropagation_ algorithm. The process is repeated for all of the examples in your training data. One round of updating the network for the entire training dataset is called an __epoch__. A network may be trained for tens, hundreds, or many thousands of epochs."
   ]
  },
  {
   "cell_type": "code",
   "execution_count": 1,
   "id": "a6e44588-8455-466a-897d-dc69aacb80aa",
   "metadata": {},
   "outputs": [],
   "source": [
    "import numpy as np\n",
    "import random\n",
    "import matplotlib.pyplot as plt"
   ]
  },
  {
   "cell_type": "code",
   "execution_count": 2,
   "id": "15376db8-62aa-46b3-83a5-d5a8ce02efc8",
   "metadata": {},
   "outputs": [],
   "source": [
    "X = [\n",
    "    [0,0,1],\n",
    "    [0,1,1],\n",
    "    [1,0,1],\n",
    "    [1,1,1]\n",
    "]\n",
    "y = [\n",
    "    0,\n",
    "    1,\n",
    "    1,\n",
    "    1\n",
    "]\n",
    "w = [\n",
    "    random.random(),\n",
    "    random.random(),\n",
    "    -random.random()\n",
    "]\n",
    "\n",
    "LearningRate = 0.00025"
   ]
  },
  {
   "cell_type": "code",
   "execution_count": 3,
   "id": "c0e75408-95b4-4376-9ffe-76ab9551fa91",
   "metadata": {},
   "outputs": [],
   "source": [
    "def ActivationFunc(num):\n",
    "    if num >= 0:\n",
    "        return 1\n",
    "    else:\n",
    "        return 0"
   ]
  },
  {
   "cell_type": "code",
   "execution_count": 4,
   "id": "0ea247c8-193a-4624-aa60-26b0ad693837",
   "metadata": {},
   "outputs": [],
   "source": [
    "def Noron(x, y, w):\n",
    "    step = 0\n",
    "    for row in x:\n",
    "        out = ActivationFunc(row[0] * w[0] + row[1] * w[1] + row[2] * w[2])\n",
    "        #print(out)\n",
    "        #print(y[step])\n",
    "        error = y[step] - out\n",
    "        #print(error)\n",
    "        w[0] = w[0] + (error * LearningRate)\n",
    "        w[1] = w[1] + (error * LearningRate)\n",
    "        w[2] = w[2] + (error * LearningRate)\n",
    "        #print(w)\n",
    "        step += 1\n",
    "    return w    "
   ]
  },
  {
   "cell_type": "code",
   "execution_count": 5,
   "id": "f110ba44-b7c0-44fd-b714-4cf301325c6f",
   "metadata": {},
   "outputs": [],
   "source": [
    "def OutPut(x,w):\n",
    "    y_new = []\n",
    "    for row in x:\n",
    "        y_new.append(ActivationFunc(row[0] * w[0] + row[1] * w[1] + row[2] * w[2]))\n",
    "    return y_new  "
   ]
  },
  {
   "cell_type": "code",
   "execution_count": 6,
   "id": "964714e0-40b2-40cc-9af1-846c80d70ecc",
   "metadata": {},
   "outputs": [],
   "source": [
    "def AccErr(y, out):\n",
    "    num = 0\n",
    "    for i in range(len(y)):\n",
    "        if y[i] == out[i]:\n",
    "            num += 1\n",
    "    acc = num / 4\n",
    "    error = 1 - acc\n",
    "    return acc, error"
   ]
  },
  {
   "cell_type": "code",
   "execution_count": 7,
   "id": "232b433f-56fb-4b48-a262-9f3d5ed1b69f",
   "metadata": {},
   "outputs": [],
   "source": [
    "def PerceptronFunc(x, y, w):\n",
    "    WEpoch = w\n",
    "    ErrorEpoch = []\n",
    "    AccuracyEpoch = []\n",
    "    for i in range(200):\n",
    "        WEpoch = Noron(x, y, WEpoch)\n",
    "        y_new = OutPut(x, WEpoch)\n",
    "        acc, err = AccErr(y, y_new)\n",
    "        ErrorEpoch.append(err)\n",
    "        AccuracyEpoch.append(acc)\n",
    "    return ErrorEpoch, AccuracyEpoch   \n",
    "        "
   ]
  },
  {
   "cell_type": "code",
   "execution_count": 8,
   "id": "3aba766e-541f-4f41-99b5-09f84ff94993",
   "metadata": {},
   "outputs": [],
   "source": [
    "ErrorEpoch, AccuracyEpoch = PerceptronFunc(X, y, w)"
   ]
  },
  {
   "cell_type": "code",
   "execution_count": 9,
   "id": "e2090720-0531-4c2a-8965-1013933f4e8b",
   "metadata": {},
   "outputs": [
    {
     "data": {
      "image/png": "[encoded data removed]",
      "text/plain": [
       "<Figure size 640x480 with 1 Axes>"
      ]
     },
     "metadata": {},
     "output_type": "display_data"
    }
   ],
   "source": [
    "x = range(0,200)\n",
    "plt.plot(x, AccuracyEpoch, label = \"Accuracy\")\n",
    "plt.plot(x, ErrorEpoch, label = \"Error\")\n",
    "plt.legend(title = \"Perceptron Function\")\n",
    "plt.show()"
   ]
  },
  {
   "cell_type": "code",
   "execution_count": null,
   "id": "14c6b75b-77e0-4e76-9ec4-a1e5e9c6bf8f",
   "metadata": {},
   "outputs": [],
   "source": []
  }
 ],
 "metadata": {
  "kernelspec": {
   "display_name": "Python 3 (ipykernel)",
   "language": "python",
   "name": "python3"
  },
  "language_info": {
   "codemirror_mode": {
    "name": "ipython",
    "version": 3
   },
   "file_extension": ".py",
   "mimetype": "text/x-python",
   "name": "python",
   "nbconvert_exporter": "python",
   "pygments_lexer": "ipython3",
   "version": "3.11.9"
  }
 },
 "nbformat": 4,
 "nbformat_minor": 5
}
