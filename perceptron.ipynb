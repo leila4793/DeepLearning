{
 "cells": [
  {
   "cell_type": "code",
   "execution_count": 1,
   "id": "75febc0b-815e-440d-a539-4373fa8d1bdc",
   "metadata": {},
   "outputs": [],
   "source": [
    "import numpy as np\n",
    "import random\n",
    "import matplotlib.pyplot as plt"
   ]
  },
  {
   "cell_type": "code",
   "execution_count": 2,
   "id": "b7443177-b72d-49ba-827e-e64a37fb4ae5",
   "metadata": {},
   "outputs": [],
   "source": [
    "X = [\n",
    "    [0,0,1],\n",
    "    [0,1,1],\n",
    "    [1,0,1],\n",
    "    [1,1,1]\n",
    "]\n",
    "y = [\n",
    "    0,\n",
    "    1,\n",
    "    1,\n",
    "    1\n",
    "]\n",
    "w = [\n",
    "    random.random(),\n",
    "    random.random(),\n",
    "    -random.random()\n",
    "]\n",
    "\n",
    "LearningRate = 0.00025"
   ]
  },
  {
   "cell_type": "code",
   "execution_count": 3,
   "id": "d7352547-c68e-4e85-9405-02881f15177a",
   "metadata": {},
   "outputs": [],
   "source": [
    "def ActivationFunc(num):\n",
    "    if num >= 0:\n",
    "        return 1\n",
    "    else:\n",
    "        return 0"
   ]
  },
  {
   "cell_type": "code",
   "execution_count": 4,
   "id": "c91a321a-1162-468f-8c7a-c48339fd5ac6",
   "metadata": {},
   "outputs": [],
   "source": [
    "def Noron(x, y, w):\n",
    "    step = 0\n",
    "    for row in x:\n",
    "        out = ActivationFunc(row[0] * w[0] + row[1] * w[1] + row[2] * w[2])\n",
    "        #print(out)\n",
    "        #print(y[step])\n",
    "        error = y[step] - out\n",
    "        #print(error)\n",
    "        w[0] = w[0] + (error * LearningRate)\n",
    "        w[1] = w[1] + (error * LearningRate)\n",
    "        w[2] = w[2] + (error * LearningRate)\n",
    "        #print(w)\n",
    "        step += 1\n",
    "    return w    "
   ]
  },
  {
   "cell_type": "code",
   "execution_count": 5,
   "id": "0c8587d0-6c18-4c2e-9bd8-dd7ccfebddf6",
   "metadata": {},
   "outputs": [],
   "source": [
    "def OutPut(x,w):\n",
    "    y_new = []\n",
    "    for row in x:\n",
    "        y_new.append(ActivationFunc(row[0] * w[0] + row[1] * w[1] + row[2] * w[2]))\n",
    "    return y_new    "
   ]
  },
  {
   "cell_type": "code",
   "execution_count": 6,
   "id": "6f19ba9a-4927-42bc-a054-992a593f6aad",
   "metadata": {},
   "outputs": [],
   "source": [
    "def AccErr(y, out):\n",
    "    num = 0\n",
    "    for i in range(len(y)):\n",
    "        if y[i] == out[i]:\n",
    "            num += 1\n",
    "    acc = num / 4\n",
    "    error = 1 - acc\n",
    "    return acc, error"
   ]
  },
  {
   "cell_type": "code",
   "execution_count": 7,
   "id": "0389f597-03a6-4a35-b4f2-5acddb55f066",
   "metadata": {},
   "outputs": [],
   "source": [
    "def PerceptronFunc(x, y, w):\n",
    "    WEpoch = w\n",
    "    ErrorEpoch = []\n",
    "    AccuracyEpoch = []\n",
    "    for i in range(200):\n",
    "        WEpoch = Noron(x, y, WEpoch)\n",
    "        y_new = OutPut(x, WEpoch)\n",
    "        acc, err = AccErr(y, y_new)\n",
    "        ErrorEpoch.append(err)\n",
    "        AccuracyEpoch.append(acc)\n",
    "    return ErrorEpoch, AccuracyEpoch   \n",
    "        "
   ]
  },
  {
   "cell_type": "code",
   "execution_count": 8,
   "id": "f30d5536-bc49-4ecd-8ee0-adba85e6332f",
   "metadata": {},
   "outputs": [],
   "source": [
    "ErrorEpoch, AccuracyEpoch = PerceptronFunc(X, y, w)"
   ]
  },
  {
   "cell_type": "code",
   "execution_count": 9,
   "id": "99b94dcd-87a5-4f95-9d04-77ec2ae8a0de",
   "metadata": {},
   "outputs": [
    {
     "data": {
      "image/png": "[encoded data removed]",
      "text/plain": [
       "<Figure size 640x480 with 1 Axes>"
      ]
     },
     "metadata": {},
     "output_type": "display_data"
    }
   ],
   "source": [
    "x = range(0,200)\n",
    "plt.plot(x, AccuracyEpoch, label = \"Accuracy\")\n",
    "plt.plot(x, ErrorEpoch, label = \"Error\")\n",
    "plt.legend(title = \"Perceptron Function\")\n",
    "plt.show()"
   ]
  }
 ],
 "metadata": {
  "kernelspec": {
   "display_name": "Python 3 (ipykernel)",
   "language": "python",
   "name": "python3"
  },
  "language_info": {
   "codemirror_mode": {
    "name": "ipython",
    "version": 3
   },
   "file_extension": ".py",
   "mimetype": "text/x-python",
   "name": "python",
   "nbconvert_exporter": "python",
   "pygments_lexer": "ipython3",
   "version": "3.11.2"
  }
 },
 "nbformat": 4,
 "nbformat_minor": 5
}
