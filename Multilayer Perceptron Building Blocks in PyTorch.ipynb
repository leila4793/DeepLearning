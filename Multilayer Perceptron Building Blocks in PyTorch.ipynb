{
 "cells": [
  {
   "cell_type": "markdown",
   "id": "fbd7db2a-6dd8-434b-8023-7c9fc93cf847",
   "metadata": {},
   "source": [
    "__contents:__\n",
    "1. [Neural Network Models in PyTorch](#NeuralNetworkModelsinPyTorch)"
   ]
  },
  {
   "cell_type": "markdown",
   "id": "d7379718-4fb6-49fc-be70-ad15d1f1d944",
   "metadata": {},
   "source": [
    "# <h2 style=\"color: blue;\"> 1.Neural Network Models in PyTorch <a id='NeuralNetworkModelsinPyTorch'></a></h2>"
   ]
  },
  {
   "cell_type": "markdown",
   "id": "9b6fe69b-0b5d-49d6-9113-4832a19c19c7",
   "metadata": {},
   "source": [
    "<font color='#808080'>\n",
    "\n",
    "```Sequential``` class,is just a linear stack of layers connected in tandem. You can create a Sequential model and define all the layers in one shot.\n",
    "\n",
    "```python\n",
    "import torch\n",
    "import torch.nn as nn\n",
    "model = nn.Sequential(...)\n",
    "```"
   ]
  },
  {
   "cell_type": "code",
   "execution_count": 1,
   "id": "ac47db0a-c1f2-4580-b1c3-363bf7643459",
   "metadata": {},
   "outputs": [
    {
     "name": "stdout",
     "output_type": "stream",
     "text": [
      "Sequential(\n",
      "  (0): Linear(in_features=764, out_features=100, bias=True)\n",
      "  (1): ReLU()\n",
      "  (2): Linear(in_features=100, out_features=50, bias=True)\n",
      "  (3): ReLU()\n",
      "  (4): Linear(in_features=50, out_features=10, bias=True)\n",
      "  (5): Sigmoid()\n",
      ")\n"
     ]
    }
   ],
   "source": [
    "import torch.nn as nn\n",
    "model = nn.Sequential(\n",
    "nn.Linear(764, 100),\n",
    "nn.ReLU(),\n",
    "nn.Linear(100, 50),\n",
    "nn.ReLU(),\n",
    "nn.Linear(50, 10),\n",
    "nn.Sigmoid()\n",
    ")\n",
    "print(model)"
   ]
  },
  {
   "cell_type": "markdown",
   "id": "845a5bb6-100a-47a8-b72d-fcb0afec0e1b",
   "metadata": {},
   "source": [
    "<font color='#808080'>\n",
    "\n",
    "The other way of using Sequential is to pass in an ordered dictionary in which you can assign\n",
    "names to each layer:"
   ]
  },
  {
   "cell_type": "code",
   "execution_count": 2,
   "id": "d3137836-e62e-42b6-ae09-84abaad07615",
   "metadata": {},
   "outputs": [
    {
     "name": "stdout",
     "output_type": "stream",
     "text": [
      "Sequential(\n",
      "  (dense1): Linear(in_features=764, out_features=100, bias=True)\n",
      "  (act1): ReLU()\n",
      "  (dense2): Linear(in_features=100, out_features=50, bias=True)\n",
      "  (act2): ReLU()\n",
      "  (output): Linear(in_features=50, out_features=10, bias=True)\n",
      "  (outact): Sigmoid()\n",
      ")\n"
     ]
    }
   ],
   "source": [
    "from collections import OrderedDict\n",
    "import torch.nn as nn\n",
    "model = nn.Sequential(OrderedDict([\n",
    "('dense1', nn.Linear(764, 100)),\n",
    "('act1', nn.ReLU()),\n",
    "('dense2', nn.Linear(100, 50)),\n",
    "('act2', nn.ReLU()),\n",
    "('output', nn.Linear(50, 10)),\n",
    "('outact', nn.Sigmoid()),\n",
    "]))\n",
    "print(model)"
   ]
  },
  {
   "cell_type": "markdown",
   "id": "289c704f-7b72-4246-9d75-4da0bf56063c",
   "metadata": {},
   "source": [
    "<font color='#808080'>\n",
    "\n",
    "And if you would like to build the layers one by one instead of doing everything in one shot,\n",
    "you can do the following:"
   ]
  },
  {
   "cell_type": "code",
   "execution_count": 3,
   "id": "7a088ce0-13c2-4e1a-8ef4-b66987418bed",
   "metadata": {},
   "outputs": [
    {
     "name": "stdout",
     "output_type": "stream",
     "text": [
      "Sequential(\n",
      "  (dense1): Linear(in_features=8, out_features=12, bias=True)\n",
      "  (act1): ReLU()\n",
      "  (dense2): Linear(in_features=12, out_features=8, bias=True)\n",
      "  (act2): ReLU()\n",
      "  (output): Linear(in_features=8, out_features=1, bias=True)\n",
      "  (outact): Sigmoid()\n",
      ")\n"
     ]
    }
   ],
   "source": [
    "import torch.nn as nn\n",
    "model = nn.Sequential()\n",
    "model.add_module(\"dense1\", nn.Linear(8, 12))\n",
    "model.add_module(\"act1\", nn.ReLU())\n",
    "model.add_module(\"dense2\", nn.Linear(12, 8))\n",
    "model.add_module(\"act2\", nn.ReLU())\n",
    "model.add_module(\"output\", nn.Linear(8, 1))\n",
    "model.add_module(\"outact\", nn.Sigmoid())\n",
    "print(model)"
   ]
  },
  {
   "cell_type": "code",
   "execution_count": null,
   "id": "cb76e5d5-7461-40cb-8db5-db2fdbcb40f0",
   "metadata": {},
   "outputs": [],
   "source": []
  }
 ],
 "metadata": {
  "kernelspec": {
   "display_name": "Python 3 (ipykernel)",
   "language": "python",
   "name": "python3"
  },
  "language_info": {
   "codemirror_mode": {
    "name": "ipython",
    "version": 3
   },
   "file_extension": ".py",
   "mimetype": "text/x-python",
   "name": "python",
   "nbconvert_exporter": "python",
   "pygments_lexer": "ipython3",
   "version": "3.11.9"
  }
 },
 "nbformat": 4,
 "nbformat_minor": 5
}
